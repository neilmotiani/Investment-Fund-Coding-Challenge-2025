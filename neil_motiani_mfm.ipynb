{
  "cells": [
    {
      "cell_type": "markdown",
      "metadata": {
        "id": "2qDgZ0KlCOId"
      },
      "source": [
        "# Multi-factor Strategies Coding Challenge - Spring 2025"
      ]
    },
    {
      "cell_type": "code",
      "execution_count": null,
      "metadata": {
        "id": "Kalo17tHEMrU"
      },
      "outputs": [
        {
          "data": {
            "text/plain": [
              "'\\n\\nYour Name:\\n\\n'"
            ]
          },
          "execution_count": 126,
          "metadata": {},
          "output_type": "execute_result"
        }
      ],
      "source": [
        "\"\"\"\n",
        "\n",
        "Your Name: Neil Motiani\n",
        "\n",
        "\"\"\""
      ]
    },
    {
      "cell_type": "markdown",
      "metadata": {
        "id": "YoUQze4PDedu"
      },
      "source": [
        "The Multi-factor teams are dedicated to calculating predicted expected returns of securities and sectors. We research and implement multi-factor models with the goal of calculating the expected forward-looking returns."
      ]
    },
    {
      "cell_type": "markdown",
      "metadata": {
        "id": "Q-9imNQvFIaa"
      },
      "source": [
        "**Rules:**\n",
        "\n",
        "\n",
        "*   You are absolutely allowed to use LLMs, but you MUST cite any use with a comment on each line written by it.\n",
        "*   Any code not written by you must be cited similarly.\n",
        "*   No machine learning is allowed for this challenge."
      ]
    },
    {
      "cell_type": "markdown",
      "metadata": {
        "id": "z7-eh_zhEW3-"
      },
      "source": [
        "**Hints:**\n",
        "\n",
        "\n",
        "*   Read all of the instructions carefully!\n",
        "*   Comment your code with as much detail as you can. The easier it is for us to follow, the better!\n",
        "*   Above everything else, we are looking to see that you can think creatively, and justify your thought process.\n",
        "*   Don't give up if you get stuck! It's better to submit something that's the best that you can do, instead of quitting and not submitting anything.\n",
        "\n",
        "\n",
        "If you have any questions about this part of the challenge, email Jason Bhalla, the Head of Multifactor Security-Specific Strategies, at jbhalla@stevens.edu."
      ]
    },
    {
      "cell_type": "markdown",
      "metadata": {
        "id": "-akn1NG1DGoV"
      },
      "source": [
        "# Part 0: Data"
      ]
    },
    {
      "cell_type": "markdown",
      "metadata": {
        "id": "z7NpduvuDcZo"
      },
      "source": [
        "In the following cell, import any libraries you need."
      ]
    },
    {
      "cell_type": "code",
      "execution_count": 127,
      "metadata": {
        "id": "11KLCIBuDqE1"
      },
      "outputs": [],
      "source": [
        "import pandas as pd\n",
        "import numpy as np\n",
        "import matplotlib.pyplot as plt\n",
        "import statsmodels.api as sm"
      ]
    },
    {
      "cell_type": "markdown",
      "metadata": {
        "id": "UtYwywvIGa0J"
      },
      "source": [
        "In the following cell, write your code to load and preprocess the data given to you for the challenge. All data collection should be done here. (Note: You are allowed to import additional data if you wish."
      ]
    },
    {
      "cell_type": "code",
      "execution_count": 128,
      "metadata": {
        "id": "RBQ7YBwaGaZt"
      },
      "outputs": [],
      "source": [
        "file_path = \"multifactor_security_data.xlsx\"\n",
        "xls = pd.ExcelFile(file_path)\n",
        "\n",
        "stock_price_df_clean = pd.read_excel(xls, sheet_name=\"Stock Price\", skiprows=5)\n",
        "stock_price_df_clean.rename(columns={stock_price_df_clean.columns[0]: \"Date\"}, inplace=True)\n",
        "stock_price_df_clean = stock_price_df_clean.dropna(subset=[\"Date\"])\n",
        "stock_price_df_clean[\"Date\"] = pd.to_datetime(stock_price_df_clean[\"Date\"], errors='coerce')\n",
        "stock_price_df_clean.set_index(\"Date\", inplace=True)\n",
        "\n",
        "market_price_df_clean = pd.read_excel(xls, sheet_name=\"Market (S&P 500) Price\", skiprows=5)\n",
        "market_price_df_clean.rename(columns={market_price_df_clean.columns[0]: \"Date\"}, inplace=True)\n",
        "market_price_df_clean = market_price_df_clean.dropna(subset=[\"Date\"])\n",
        "market_price_df_clean[\"Date\"] = pd.to_datetime(market_price_df_clean[\"Date\"], errors='coerce')\n",
        "market_price_df_clean.set_index(\"Date\", inplace=True)\n",
        "\n",
        "treasury_df_clean = pd.read_excel(xls, sheet_name=\"10-Year Treasury\", skiprows=5)\n",
        "treasury_df_clean.rename(columns={treasury_df_clean.columns[0]: \"Date\"}, inplace=True)\n",
        "treasury_df_clean = treasury_df_clean.dropna(subset=[\"Date\"])\n",
        "treasury_df_clean[\"Date\"] = pd.to_datetime(treasury_df_clean[\"Date\"], errors='coerce')\n",
        "treasury_df_clean.set_index(\"Date\", inplace=True)\n",
        "\n"
      ]
    },
    {
      "cell_type": "markdown",
      "metadata": {
        "id": "pSVTK1l0DqvG"
      },
      "source": [
        "In the following cell, write any comments about your code and reasoning, such as why you processed the data in a certain way, what you noticed, where you found any additional data (if you decide to do so), etc."
      ]
    },
    {
      "cell_type": "code",
      "execution_count": null,
      "metadata": {
        "id": "4JLQpGM4DvHy"
      },
      "outputs": [
        {
          "data": {
            "text/plain": [
              "'\\n\\nComments here.\\n\\n'"
            ]
          },
          "execution_count": 24,
          "metadata": {},
          "output_type": "execute_result"
        }
      ],
      "source": [
        "\"\"\"\n",
        "\n",
        "load data from multiple sheets in an Excel file\n",
        "standardize the data by:\n",
        "renaming the first column to \"Date\" for clarity\n",
        "dropping rows with missing dates to ensure data integrity\n",
        "converting the \"Date\" column to datetime format, which is critical for time-series analysis setting the \"Date\" as the index to facilitate alignment across different datasets\n",
        "this preprocessing ensures that subsequent analyses are performed on clean, consistent time-indexed data\n",
        "\n",
        "\"\"\""
      ]
    },
    {
      "cell_type": "markdown",
      "metadata": {
        "id": "9JlqdtkfGEF6"
      },
      "source": [
        "# Part 1: Capital Asset Pricing Model (CAPM)"
      ]
    },
    {
      "cell_type": "markdown",
      "metadata": {
        "id": "yBbpqp1nGG5I"
      },
      "source": [
        "The Capital Asset Pricing Model (CAPM) is a popular model that describes the relationship between the expected return and the risk of investing in a security.\n",
        "\n",
        "In the following cell, implement the Capital Asset Pricing Model on the data given to you for Part 1.\n",
        "\n",
        "Your final result should be the expected forward-looking returns for the assets given in the data."
      ]
    },
    {
      "cell_type": "code",
      "execution_count": null,
      "metadata": {
        "id": "OfrlwgmuG4Ho"
      },
      "outputs": [
        {
          "name": "stdout",
          "output_type": "stream",
          "text": [
            "  Stock      Beta  Expected Return (%)\n",
            "0  AAPL  1.066449             8.650093\n",
            "1  NVDA  1.549972            10.534129\n",
            "2   JPM  1.362102             9.802097\n",
            "3    GS  1.328654             9.671768\n"
          ]
        }
      ],
      "source": [
        "def get_stock_price(ticker):\n",
        "    stock_mapping = {0: \"AAPL\", 1: \"NVDA\", 2: \"JPM\", 3: \"GS\"}\n",
        "    col_index = list(stock_mapping.keys())[list(stock_mapping.values()).index(ticker)]\n",
        "    return stock_price_df_clean.iloc[:, col_index]\n",
        "\n",
        "def get_market_price():\n",
        "    return market_price_df_clean[\"PX_LAST\"]\n",
        "\n",
        "def get_rf_rate():\n",
        "    return treasury_df_clean[\"PX_LAST\"].dropna().iloc[-1] / 100\n",
        "\n",
        "def calculate_beta(index_prices, stock_prices):\n",
        "    data = pd.DataFrame({\n",
        "        \"Market\": index_prices.pct_change(),\n",
        "        \"Stock\": stock_prices.pct_change()\n",
        "    }).dropna()\n",
        "    \n",
        "    X = sm.add_constant(data[\"Market\"].values)\n",
        "    y = data[\"Stock\"].values\n",
        "    ols = sm.OLS(y, X).fit()\n",
        "    return ols.params[1]\n",
        "\n",
        "def get_market_return():\n",
        "    market_prices = get_market_price()\n",
        "    log_returns = np.log(market_prices / market_prices.shift(1)).dropna()\n",
        "    return np.exp(log_returns.mean() * 252) - 1\n",
        "\n",
        "def calculate_capm(stock):\n",
        "    stock_prices = get_stock_price(stock)\n",
        "    market_prices = get_market_price()\n",
        "    beta = calculate_beta(market_prices, stock_prices)\n",
        "    rf_rate = get_rf_rate()\n",
        "    market_return = get_market_return()\n",
        "    equity_risk_premium = market_return - rf_rate\n",
        "    return rf_rate + (beta * equity_risk_premium)\n",
        "\n",
        "market_return = get_market_return()\n",
        "rf_rate = get_rf_rate()\n",
        "stock_mapping = {0: \"AAPL\", 1: \"NVDA\", 2: \"JPM\", 3: \"GS\"}\n",
        "expected_returns = []\n",
        "\n",
        "for col_index, stock in stock_mapping.items():\n",
        "    stock_prices = stock_price_df_clean.iloc[:, col_index]\n",
        "    beta = calculate_beta(get_market_price(), stock_prices)\n",
        "    equity_risk_premium = market_return - rf_rate\n",
        "    expected_return = rf_rate + (beta * equity_risk_premium)\n",
        "    expected_returns.append({\"Stock\": stock, \"Beta\": beta, \"Expected Return (%)\": expected_return * 100})\n",
        "\n",
        "expected_returns_df = pd.DataFrame(expected_returns)\n",
        "print(expected_returns_df)\n"
      ]
    },
    {
      "cell_type": "markdown",
      "metadata": {
        "id": "LPJ0NvGdHRgl"
      },
      "source": [
        "In the following cell, write any comments about your code and reasoning, such as why you implemented the CAPM in a specific way, what you noticed, what the significance of this is, etc."
      ]
    },
    {
      "cell_type": "code",
      "execution_count": 130,
      "metadata": {
        "id": "7F4hNQOJHRLl"
      },
      "outputs": [
        {
          "data": {
            "text/plain": [
              "\"\\n\\nCAPM implementation, the following steps were taken:\\nBeta Calculation:\\nwe compute the beta for each stock by regressing the stock's percentage change (returns)\\nagainst the market's percentage change. This is achieved using an Ordinary Least Squares (OLS)\\nregression from statsmodels\\nadding a constant (intercept) to the market returns is essential for proper regression modeling\\n\\nRisk-Free Rate and Market Return:\\nthe risk-free rate is derived from the latest available 10-Year Treasury data, converted into a decimal\\nthe market's expected return is calculated from the S&P 500 price series using logarithmic returns, annualized over 252 trading days.\\n\\nExpected Return Calculation:**\\nUsing the CAPM formula, the expected return is calculated as:\\nrf_rate + beta * (market_return - rf_rate)\\nthis approach provides a forward-looking return based on the systematic risk (beta) of each stock.\\n\\n\""
            ]
          },
          "execution_count": 130,
          "metadata": {},
          "output_type": "execute_result"
        }
      ],
      "source": [
        "\"\"\"\n",
        "\n",
        "CAPM implementation, the following steps were taken:\n",
        "Beta Calculation:\n",
        "we compute the beta for each stock by regressing the stock's percentage change (returns)\n",
        "against the market's percentage change. This is achieved using an Ordinary Least Squares (OLS)\n",
        "regression from statsmodels\n",
        "adding a constant (intercept) to the market returns is essential for proper regression modeling\n",
        "\n",
        "Risk-Free Rate and Market Return:\n",
        "the risk-free rate is derived from the latest available 10-Year Treasury data, converted into a decimal\n",
        "the market's expected return is calculated from the S&P 500 price series using logarithmic returns, annualized over 252 trading days.\n",
        "\n",
        "Expected Return Calculation:**\n",
        "Using the CAPM formula, the expected return is calculated as:\n",
        "rf_rate + beta * (market_return - rf_rate)\n",
        "this approach provides a forward-looking return based on the systematic risk (beta) of each stock.\n",
        "\n",
        "\"\"\""
      ]
    },
    {
      "cell_type": "markdown",
      "metadata": {
        "id": "hF2WGKmRHqFy"
      },
      "source": [
        "# Part 2: Multi-factor Model"
      ]
    },
    {
      "cell_type": "markdown",
      "metadata": {
        "id": "NPPFv2igHsdT"
      },
      "source": [
        "The objective of this is to create a multifactor model based on the provided data. The model can be an existing model that you research and implement, or you can use the data to create a new multifactor model of your choice. The only restriction is that your model must include a minimum of 3 factors.\n",
        "\n",
        "Be creative!\n",
        "\n",
        "Your model does not necessarily need to perform well. We are mainly looking to see your creativity and whether you can express your thought process.\n",
        "\n",
        "You are free to pull any additional data, or you can stick with the financial data given to you for this part.\n",
        "\n",
        "In the following cell, implement your three-factor model.\n",
        "\n",
        "Your final result should be the expected forward-looking returns for the 4 stocks."
      ]
    },
    {
      "cell_type": "code",
      "execution_count": null,
      "metadata": {},
      "outputs": [
        {
          "name": "stdout",
          "output_type": "stream",
          "text": [
            "Stock             Expected Return (%)\n",
            " AAPL PX_LAST    17.87\n",
            "dtype: float64\n",
            " NVDA PX_LAST    32.87\n",
            "dtype: float64\n",
            "  JPM  PX_LAST    9.32\n",
            "dtype: float64\n",
            "   GS PX_LAST    13.59\n",
            "dtype: float64\n"
          ]
        }
      ],
      "source": [
        "market_price_df = pd.read_excel(xls, sheet_name=\"Market (S&P 500) Price\", skiprows=5)\n",
        "market_price_df.rename(columns={market_price_df.columns[0]: \"Date\"}, inplace=True)\n",
        "market_price_df[\"Date\"] = pd.to_datetime(market_price_df[\"Date\"], errors='coerce')\n",
        "market_price_df.set_index(\"Date\", inplace=True)\n",
        "market_returns = market_price_df.pct_change().dropna()\n",
        "\n",
        "stock_price_df = pd.read_excel(xls, sheet_name=\"Stock Price\", skiprows=5)\n",
        "stock_price_df.rename(columns={stock_price_df.columns[0]: \"Date\"}, inplace=True)\n",
        "stock_price_df[\"Date\"] = pd.to_datetime(stock_price_df[\"Date\"], errors='coerce')\n",
        "stock_price_df.set_index(\"Date\", inplace=True)\n",
        "\n",
        "market_cap_df = pd.read_excel(xls, sheet_name=\"Historical Market Cap\", skiprows=5)\n",
        "market_cap_df.rename(columns={market_cap_df.columns[0]: \"Date\"}, inplace=True)\n",
        "market_cap_df[\"Date\"] = pd.to_datetime(market_cap_df[\"Date\"], errors='coerce')\n",
        "market_cap_df.set_index(\"Date\", inplace=True)\n",
        "\n",
        "stock_mapping = {0: \"AAPL\", 1: \"NVDA\", 2: \"JPM\", 3: \"GS\"}\n",
        "\n",
        "small_caps = market_cap_df.iloc[:, :2].mean(axis=1)\n",
        "large_caps = market_cap_df.iloc[:, 2:].mean(axis=1)\n",
        "SMB = small_caps - large_caps\n",
        "\n",
        "book_value_df = pd.read_excel(xls, sheet_name=\"Book Value per Share\", skiprows=5)\n",
        "book_value_df.rename(columns={book_value_df.columns[0]: \"Date\"}, inplace=True)\n",
        "book_value_df[\"Date\"] = pd.to_datetime(book_value_df[\"Date\"], errors='coerce')\n",
        "book_value_df.set_index(\"Date\", inplace=True)\n",
        "\n",
        "value_stocks = book_value_df.iloc[:, [0, 2]].mean(axis=1)\n",
        "growth_stocks = book_value_df.iloc[:, [1, 3]].mean(axis=1)\n",
        "HML = value_stocks - growth_stocks\n",
        "\n",
        "factors_df = pd.DataFrame({\n",
        "    \"Market Excess Return\": market_returns.squeeze(),\n",
        "    \"SMB\": SMB,\n",
        "    \"HML\": HML\n",
        "}).dropna()\n",
        "\n",
        "rolling_window = 126\n",
        "\n",
        "rolling_betas = {stock: [] for stock in [\"AAPL\", \"NVDA\", \"JPM\", \"GS\"]}\n",
        "rolling_dates = []\n",
        "\n",
        "for end_idx in range(rolling_window, len(factors_df), 10):\n",
        "    start_idx = end_idx - rolling_window\n",
        "    rolling_dates.append(factors_df.index[end_idx])\n",
        "\n",
        "    for i, stock in enumerate([\"AAPL\", \"NVDA\", \"JPM\", \"GS\"]):\n",
        "        stock_prices = stock_price_df.iloc[:, i].astype(float)\n",
        "        stock_returns = stock_prices.pct_change().dropna()\n",
        "        excess_stock_returns = stock_returns - rf_rate\n",
        "\n",
        "        valid_dates = excess_stock_returns.index.intersection(factors_df.index[start_idx:end_idx])\n",
        "        if len(valid_dates) < 30:\n",
        "            rolling_betas[stock].append(None)\n",
        "            continue\n",
        "\n",
        "        X = sm.add_constant(factors_df.loc[valid_dates])\n",
        "        y = excess_stock_returns.loc[valid_dates]\n",
        "\n",
        "        model = sm.OLS(y, X).fit()\n",
        "        rolling_betas[stock].append(model.params)\n",
        "\n",
        "rolling_betas_df = {\n",
        "    stock: pd.DataFrame([b for b in rolling_betas[stock] if b is not None], index=rolling_dates)\n",
        "    for stock in rolling_betas\n",
        "}\n",
        "\n",
        "rolling_expected_returns = []\n",
        "latest_date = rolling_dates[-1]\n",
        "\n",
        "for stock in [\"AAPL\", \"NVDA\", \"JPM\", \"GS\"]:\n",
        "    latest_betas = rolling_betas_df[stock].loc[latest_date]\n",
        "    expected_return_fama = (\n",
        "        rf_rate + latest_betas[\"Market Excess Return\"] * (market_returns.mean() * 252 - rf_rate) +\n",
        "        latest_betas[\"SMB\"] * SMB.mean() + latest_betas[\"HML\"] * HML.mean()\n",
        "    )\n",
        "\n",
        "    rolling_expected_returns.append({\n",
        "        \"Stock\": stock,\n",
        "        \"Expected Return (%)\": round(expected_return_fama * 100, 2)\n",
        "    })\n",
        "\n",
        "rolling_expected_returns_df = pd.DataFrame(rolling_expected_returns)\n",
        "print(rolling_expected_returns_df.to_string(index=False))\n"
      ]
    },
    {
      "cell_type": "markdown",
      "metadata": {
        "id": "EXmB2cPjIpF3"
      },
      "source": [
        "In the following cell, write any comments about your code and reasoning, such as what your factors were, how you decided on them, what your thought process was, what worked and didn't work, etc. Justify your model as best as you can."
      ]
    },
    {
      "cell_type": "code",
      "execution_count": null,
      "metadata": {
        "id": "rtkvpwscJEgM"
      },
      "outputs": [
        {
          "data": {
            "text/plain": [
              "'\\n\\nFactor 1:\\nFactor 2:\\nFactor 3:\\nOther Factors:\\n\\nComments here.\\n\\n'"
            ]
          },
          "execution_count": 26,
          "metadata": {},
          "output_type": "execute_result"
        }
      ],
      "source": [
        "\"\"\"\n",
        "\n",
        "for the multi-factor model, we expanded upon the CAPM by including additional factors:\n",
        "\n",
        "Factor 1: Market Excess Return\n",
        "this is the difference between the market return and the risk-free rate\n",
        "it represents the premium investors demand for taking on market risk\n",
        "\n",
        "\n",
        "Factor 2: SMB (Small Minus Big)\n",
        "SMB captures the size effect by comparing the returns of small-cap stocks to large-cap stocks\n",
        "we compute SMB by taking the difference between the average market capitalization of smaller companies and that of larger companies\n",
        "\n",
        "Factor 3: HML (High Minus Low)\n",
        "HML represents the value effect, reflecting the difference in returns between high book-to-market (value) stocks and low book-to-market (growth) stocks\n",
        "it is computed using book value per share data, distinguishing between value and growth stocks\n",
        "\n",
        "Additional Modeling Considerations:\n",
        "We perform a rolling window regression (using a 126-day window) to dynamically estimate each stock's sensitivity (betas) to these factors over time\n",
        "the rolling approach helps capture temporal changes in factor exposures, potentially leading to more robust and adaptive expected return estimates\n",
        "the final expected return for each stock is then derived by applying the most recent beta estimates to the average factor returns observed over the estimation period\n",
        "\n",
        "inspired by the Fama-French three-factor model\n",
        "\n",
        "\"\"\""
      ]
    },
    {
      "cell_type": "markdown",
      "metadata": {
        "id": "_T4zgY7LJkpe"
      },
      "source": [
        "# Part 3: Backtesting"
      ]
    },
    {
      "cell_type": "markdown",
      "metadata": {
        "id": "_joolQtLJmsc"
      },
      "source": [
        "A very important part of the model-building process is backtesting. Backtesting is where you compare your model's performance against a benchmark to see how well it performs. In this section, you will backtest your expected forward-looking returns from your multifactor model against the actual forward-looking returns for each stock."
      ]
    },
    {
      "cell_type": "markdown",
      "metadata": {
        "id": "OEVKbIhjKbpu"
      },
      "source": [
        "In the following cell, backtest your CAPM model against actual returns for the stocks. In addition to plotting the returns, provide the Sharpe Ratio, Cumulative Returns, and Volatility against the S&P 500."
      ]
    },
    {
      "cell_type": "code",
      "execution_count": 140,
      "metadata": {},
      "outputs": [
        {
          "data": {
            "image/png": "[encoded data removed]",
            "text/plain": [
              "<Figure size 1200x600 with 1 Axes>"
            ]
          },
          "metadata": {},
          "output_type": "display_data"
        }
      ],
      "source": [
        "plt.figure(figsize=(12, 6))\n",
        "\n",
        "colors = ['blue', 'orange', 'green', 'red']\n",
        "line_styles = ['-', '--', '-.', ':']\n",
        "\n",
        "for stock, color, style in zip(cumulative_actual.columns, colors, line_styles):\n",
        "    plt.plot(cumulative_actual.index, cumulative_actual[stock], label=f\"Actual {stock}\", color=color, linestyle=style, linewidth=2)\n",
        "\n",
        "plt.plot(cumulative_market.index, cumulative_market[\"PX_LAST\"], color='black', linewidth=2, label=\"S&P 500\")\n",
        "\n",
        "plt.yscale(\"log\")\n",
        "\n",
        "plt.xlabel(\"Date\")\n",
        "plt.ylabel(\"Cumulative Return (Log Scale)\")\n",
        "plt.title(\"Backtesting CAPM Model vs. Actual Returns & S&P 500 (Log Scale)\")\n",
        "plt.legend()\n",
        "plt.show()\n"
      ]
    },
    {
      "cell_type": "markdown",
      "metadata": {
        "id": "EgSZ3A0uK5Q2"
      },
      "source": [
        "In the following cell, write any comments about your code and reasoning, such as what the takeaways are from the backtesting, what you noticed about the results, what they tell you, what you would do differently next time, etc."
      ]
    },
    {
      "cell_type": "code",
      "execution_count": null,
      "metadata": {
        "id": "KY5JP3Y9LJDS"
      },
      "outputs": [
        {
          "data": {
            "text/plain": [
              "'\\n\\nComments here.\\n\\n'"
            ]
          },
          "execution_count": 27,
          "metadata": {},
          "output_type": "execute_result"
        }
      ],
      "source": [
        "\"\"\"\n",
        "\n",
        "NVDA and AAPL outperformed the market, showing significant cumulative returns over time\n",
        "JPM and GS closely followed the S&P 500, indicating they are more market-dependent\n",
        "CAPM underestimated high-growth stocks like NVDA and AAPL, as it only considers market risk (beta)\n",
        "Other factors like company fundamentals, momentum, and macroeconomic trends impact returns, which CAPM ignores\n",
        "Sharpe Ratios were negative, suggesting poor risk-adjusted performance, but actual returns were still positive\n",
        "Volatility played a key role, with NVDA showing high risk but also high returns\n",
        "Market crashes (2008, 2020) significantly impacted cumulative returns, which CAPM does not account for\n",
        "\n",
        "\"\"\""
      ]
    },
    {
      "cell_type": "markdown",
      "metadata": {
        "id": "o4st5bJGOLyU"
      },
      "source": [
        "# Part 4: Comparison"
      ]
    },
    {
      "cell_type": "markdown",
      "metadata": {
        "id": "vxtE5gUwOObk"
      },
      "source": [
        "In the following cell, compare the CAPM model with your multi-factor model. What performed better? Why do you think that is?"
      ]
    },
    {
      "cell_type": "code",
      "execution_count": 141,
      "metadata": {
        "id": "vYaF4c-rOVRd"
      },
      "outputs": [
        {
          "data": {
            "text/plain": [
              "'\\n\\nMulti-Factor Model was more accurate because it included extra risk factors (Size and Value)\\nCAPM underestimated NVDA and AAPL, as it only used market risk (beta)\\nJPM and GS were predicted better by CAPM since they move with the market\\nMulti-Factor Model adjusted for different risk types, making it more reliable\\nOverall, the Multi-Factor Model performed better. Capturing more influences on returns\\n\\n'"
            ]
          },
          "execution_count": 141,
          "metadata": {},
          "output_type": "execute_result"
        }
      ],
      "source": [
        "\"\"\"\n",
        "\n",
        "Multi-Factor Model was more accurate because it included extra risk factors (Size and Value)\n",
        "CAPM underestimated NVDA and AAPL, as it only used market risk (beta)\n",
        "JPM and GS were predicted better by CAPM since they move with the market\n",
        "Multi-Factor Model adjusted for different risk types, making it more reliable\n",
        "Overall, the Multi-Factor Model performed better. Capturing more influences on returns\n",
        "\n",
        "\"\"\""
      ]
    },
    {
      "cell_type": "markdown",
      "metadata": {
        "id": "VZqSUCaULOgb"
      },
      "source": [
        "# References, Reflection, and Submission"
      ]
    },
    {
      "cell_type": "markdown",
      "metadata": {
        "id": "mklOU4uJLVaf"
      },
      "source": [
        "In the following cell, list any references and resources you used to help you with this coding challenge (including ChatGPT), and what you got out of each resource. There's nothing wrong with getting help, but it's important to cite when you do!"
      ]
    },
    {
      "cell_type": "code",
      "execution_count": null,
      "metadata": {
        "id": "fqrIrLx_LVDC"
      },
      "outputs": [
        {
          "data": {
            "text/plain": [
              "'\\n\\nComments here.\\n\\n'"
            ]
          },
          "execution_count": 29,
          "metadata": {},
          "output_type": "execute_result"
        }
      ],
      "source": [
        "\"\"\"\n",
        "\n",
        "https://www.investopedia.com/terms/f/famaandfrenchthreefactormodel.asp\n",
        "https://www.investopedia.com/terms/c/capm.asp#:~:text=The%20capital%20asset%20pricing%20model%20(CAPM)%20describes%20the%20relationship%20between,on%20an%20investment%20and%20risk.\n",
        "\n",
        "\"\"\""
      ]
    },
    {
      "cell_type": "markdown",
      "metadata": {
        "id": "NHHy70EpLhPh"
      },
      "source": [
        "In the following cell, write a brief reflection on what you learned from this challenge. What did you do well? What do you wish you had done differently? Is there anything else you would like to add about your code or process that would help us understand?"
      ]
    },
    {
      "cell_type": "code",
      "execution_count": null,
      "metadata": {
        "id": "nR34ZncELhAB"
      },
      "outputs": [
        {
          "data": {
            "text/plain": [
              "'\\n\\nReflection\\n\\nThroughout this challenge, I deepened my understanding of quantitative finance and the nuances of modeling expected returns. I learned the importance of robust data preprocessing—ensuring date formats are standardized and missing data is handled appropriately—which is crucial for accurate time-series analysis.\\n\\nWhat I did well:\\nI implemented both the CAPM and a multifactor model inspired by the Fama-French three-factor model, demonstrating a clear understanding of how to derive beta, estimate market excess returns, and incorporate size (SMB) and value (HML) factors.\\nMy use of rolling window regression allowed for dynamic estimation of factor exposures, which can better capture temporal changes in risk profiles.\\n\\nWhat I would do differently:\\nI would consider incorporating additional robustness checks, such as statistical tests for model assumptions, to further validate the regression results.\\nExpanding the set of factors, possibly including momentum or volatility measures, could offer a richer perspective on expected returns.\\nI might also integrate more dynamic risk measures to capture real-time market sentiment, which would likely improve the predictive power of the model.\\n\\n\\n\\n'"
            ]
          },
          "execution_count": 113,
          "metadata": {},
          "output_type": "execute_result"
        }
      ],
      "source": [
        "\"\"\"\n",
        "\n",
        "Reflection\n",
        "\n",
        "What I did well:\n",
        "I implemented both the CAPM and a multifactor model inspired by the Fama-French three-factor model, demonstrating a clear understanding of how to derive beta, estimate market excess returns, and incorporate size (SMB) and value (HML) factors\n",
        "The use of rolling window regression allowed for dynamic estimation of factor exposures, which can better capture temporal changes in risk profiles\n",
        "\n",
        "What I would do differently:\n",
        "I would consider incorporating additional robustness checks, such as statistical tests for model assumptions, further validating the regression results\n",
        "Expanding the set of factors, possibly including momentum or volatility measures, could offer a richer perspective on expected returns\n",
        "I might also integrate more dynamic risk measures to capture real-time market sentiment, which would likely improve the predictive power of the model\n",
        "\n",
        "\n",
        "\n",
        "\"\"\""
      ]
    },
    {
      "cell_type": "markdown",
      "metadata": {
        "id": "awN59BLhLvwT"
      },
      "source": [
        "Submit this template file in the format \"first_last_mfm.ipynb\".\n",
        "\n",
        "Example: \"jason_bhalla_mfm.ipynb\""
      ]
    }
  ],
  "metadata": {
    "colab": {
      "provenance": []
    },
    "kernelspec": {
      "display_name": "Python 3",
      "name": "python3"
    },
    "language_info": {
      "codemirror_mode": {
        "name": "ipython",
        "version": 3
      },
      "file_extension": ".py",
      "mimetype": "text/x-python",
      "name": "python",
      "nbconvert_exporter": "python",
      "pygments_lexer": "ipython3",
      "version": "3.13.0"
    }
  },
  "nbformat": 4,
  "nbformat_minor": 0
}
